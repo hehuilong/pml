{
 "cells": [
  {
   "cell_type": "markdown",
   "metadata": {},
   "source": [
    "# Predicting Continuous Target Variables with Regression Analysis"
   ]
  },
  {
   "cell_type": "code",
   "execution_count": 1,
   "metadata": {},
   "outputs": [
    {
     "data": {
      "text/html": [
       "<div>\n",
       "<style>\n",
       "    .dataframe thead tr:only-child th {\n",
       "        text-align: right;\n",
       "    }\n",
       "\n",
       "    .dataframe thead th {\n",
       "        text-align: left;\n",
       "    }\n",
       "\n",
       "    .dataframe tbody tr th {\n",
       "        vertical-align: top;\n",
       "    }\n",
       "</style>\n",
       "<table border=\"1\" class=\"dataframe\">\n",
       "  <thead>\n",
       "    <tr style=\"text-align: right;\">\n",
       "      <th></th>\n",
       "      <th>CRIM</th>\n",
       "      <th>ZN</th>\n",
       "      <th>INDUS</th>\n",
       "      <th>CHAS</th>\n",
       "      <th>NOX</th>\n",
       "      <th>RM</th>\n",
       "      <th>AGE</th>\n",
       "      <th>DIS</th>\n",
       "      <th>RAD</th>\n",
       "      <th>TAX</th>\n",
       "      <th>PTRATIO</th>\n",
       "      <th>B</th>\n",
       "      <th>LSTAT</th>\n",
       "      <th>MEDV</th>\n",
       "    </tr>\n",
       "  </thead>\n",
       "  <tbody>\n",
       "    <tr>\n",
       "      <th>0</th>\n",
       "      <td>0.00632</td>\n",
       "      <td>18.0</td>\n",
       "      <td>2.31</td>\n",
       "      <td>0</td>\n",
       "      <td>0.538</td>\n",
       "      <td>6.575</td>\n",
       "      <td>65.2</td>\n",
       "      <td>4.0900</td>\n",
       "      <td>1</td>\n",
       "      <td>296.0</td>\n",
       "      <td>15.3</td>\n",
       "      <td>396.90</td>\n",
       "      <td>4.98</td>\n",
       "      <td>24.0</td>\n",
       "    </tr>\n",
       "    <tr>\n",
       "      <th>1</th>\n",
       "      <td>0.02731</td>\n",
       "      <td>0.0</td>\n",
       "      <td>7.07</td>\n",
       "      <td>0</td>\n",
       "      <td>0.469</td>\n",
       "      <td>6.421</td>\n",
       "      <td>78.9</td>\n",
       "      <td>4.9671</td>\n",
       "      <td>2</td>\n",
       "      <td>242.0</td>\n",
       "      <td>17.8</td>\n",
       "      <td>396.90</td>\n",
       "      <td>9.14</td>\n",
       "      <td>21.6</td>\n",
       "    </tr>\n",
       "    <tr>\n",
       "      <th>2</th>\n",
       "      <td>0.02729</td>\n",
       "      <td>0.0</td>\n",
       "      <td>7.07</td>\n",
       "      <td>0</td>\n",
       "      <td>0.469</td>\n",
       "      <td>7.185</td>\n",
       "      <td>61.1</td>\n",
       "      <td>4.9671</td>\n",
       "      <td>2</td>\n",
       "      <td>242.0</td>\n",
       "      <td>17.8</td>\n",
       "      <td>392.83</td>\n",
       "      <td>4.03</td>\n",
       "      <td>34.7</td>\n",
       "    </tr>\n",
       "    <tr>\n",
       "      <th>3</th>\n",
       "      <td>0.03237</td>\n",
       "      <td>0.0</td>\n",
       "      <td>2.18</td>\n",
       "      <td>0</td>\n",
       "      <td>0.458</td>\n",
       "      <td>6.998</td>\n",
       "      <td>45.8</td>\n",
       "      <td>6.0622</td>\n",
       "      <td>3</td>\n",
       "      <td>222.0</td>\n",
       "      <td>18.7</td>\n",
       "      <td>394.63</td>\n",
       "      <td>2.94</td>\n",
       "      <td>33.4</td>\n",
       "    </tr>\n",
       "    <tr>\n",
       "      <th>4</th>\n",
       "      <td>0.06905</td>\n",
       "      <td>0.0</td>\n",
       "      <td>2.18</td>\n",
       "      <td>0</td>\n",
       "      <td>0.458</td>\n",
       "      <td>7.147</td>\n",
       "      <td>54.2</td>\n",
       "      <td>6.0622</td>\n",
       "      <td>3</td>\n",
       "      <td>222.0</td>\n",
       "      <td>18.7</td>\n",
       "      <td>396.90</td>\n",
       "      <td>5.33</td>\n",
       "      <td>36.2</td>\n",
       "    </tr>\n",
       "  </tbody>\n",
       "</table>\n",
       "</div>"
      ],
      "text/plain": [
       "      CRIM    ZN  INDUS  CHAS    NOX     RM   AGE     DIS  RAD    TAX  \\\n",
       "0  0.00632  18.0   2.31     0  0.538  6.575  65.2  4.0900    1  296.0   \n",
       "1  0.02731   0.0   7.07     0  0.469  6.421  78.9  4.9671    2  242.0   \n",
       "2  0.02729   0.0   7.07     0  0.469  7.185  61.1  4.9671    2  242.0   \n",
       "3  0.03237   0.0   2.18     0  0.458  6.998  45.8  6.0622    3  222.0   \n",
       "4  0.06905   0.0   2.18     0  0.458  7.147  54.2  6.0622    3  222.0   \n",
       "\n",
       "   PTRATIO       B  LSTAT  MEDV  \n",
       "0     15.3  396.90   4.98  24.0  \n",
       "1     17.8  396.90   9.14  21.6  \n",
       "2     17.8  392.83   4.03  34.7  \n",
       "3     18.7  394.63   2.94  33.4  \n",
       "4     18.7  396.90   5.33  36.2  "
      ]
     },
     "execution_count": 1,
     "metadata": {},
     "output_type": "execute_result"
    }
   ],
   "source": [
    "import pandas as pd\n",
    "df = pd.read_csv('https://archive.ics.uci.edu/ml/machine-learning-databases/housing/housing.data', header=None, sep='\\s+')\n",
    "df.columns = ['CRIM', 'ZN', 'INDUS', 'CHAS', 'NOX', 'RM', 'AGE', 'DIS', 'RAD', 'TAX', 'PTRATIO', 'B', 'LSTAT', 'MEDV']\n",
    "df.head()"
   ]
  },
  {
   "cell_type": "markdown",
   "metadata": {},
   "source": [
    "# Visualizing the important characteristics of a dataset"
   ]
  },
  {
   "cell_type": "code",
   "execution_count": 2,
   "metadata": {},
   "outputs": [
    {
     "data": {
      "image/png": "[encoded data removed]",
      "text/plain": [
       "<matplotlib.figure.Figure at 0xa25f550>"
      ]
     },
     "metadata": {},
     "output_type": "display_data"
    }
   ],
   "source": [
    "import matplotlib.pyplot as plt\n",
    "import seaborn as sns\n",
    "sns.set(style='whitegrid', context='notebook')\n",
    "cols = ['LSTAT', 'INDUS', 'NOX', 'RM', 'MEDV']\n",
    "sns.pairplot(df[cols], size=2.5)\n",
    "plt.show()"
   ]
  },
  {
   "cell_type": "code",
   "execution_count": 3,
   "metadata": {},
   "outputs": [
    {
     "data": {
      "text/plain": [
       "array([[  4.98 ,   9.14 ,   4.03 , ...,   5.64 ,   6.48 ,   7.88 ],\n",
       "       [  2.31 ,   7.07 ,   7.07 , ...,  11.93 ,  11.93 ,  11.93 ],\n",
       "       [  0.538,   0.469,   0.469, ...,   0.573,   0.573,   0.573],\n",
       "       [  6.575,   6.421,   7.185, ...,   6.976,   6.794,   6.03 ],\n",
       "       [ 24.   ,  21.6  ,  34.7  , ...,  23.9  ,  22.   ,  11.9  ]])"
      ]
     },
     "execution_count": 3,
     "metadata": {},
     "output_type": "execute_result"
    }
   ],
   "source": [
    "df[cols].values.T"
   ]
  },
  {
   "cell_type": "code",
   "execution_count": 4,
   "metadata": {},
   "outputs": [
    {
     "data": {
      "text/plain": [
       "array([[ 1.        ,  0.60379972,  0.59087892, -0.61380827, -0.73766273],\n",
       "       [ 0.60379972,  1.        ,  0.76365145, -0.39167585, -0.48372516],\n",
       "       [ 0.59087892,  0.76365145,  1.        , -0.30218819, -0.42732077],\n",
       "       [-0.61380827, -0.39167585, -0.30218819,  1.        ,  0.69535995],\n",
       "       [-0.73766273, -0.48372516, -0.42732077,  0.69535995,  1.        ]])"
      ]
     },
     "execution_count": 4,
     "metadata": {},
     "output_type": "execute_result"
    }
   ],
   "source": [
    "import numpy as np\n",
    "cm = np.corrcoef(df[cols].values.T)\n",
    "cm"
   ]
  },
  {
   "cell_type": "code",
   "execution_count": 5,
   "metadata": {},
   "outputs": [
    {
     "data": {
      "image/png": "[encoded data removed]",
      "text/plain": [
       "<matplotlib.figure.Figure at 0x10d597f0>"
      ]
     },
     "metadata": {},
     "output_type": "display_data"
    }
   ],
   "source": [
    "sns.set(font_scale=1.5)\n",
    "hm = sns.heatmap(cm, cbar=True, annot=True, square=True, fmt='.2f', annot_kws={'size':15}, yticklabels=cols, xticklabels=cols)\n",
    "plt.show()"
   ]
  },
  {
   "cell_type": "markdown",
   "metadata": {},
   "source": [
    "# Ordinary least squares linear regression model"
   ]
  },
  {
   "cell_type": "code",
   "execution_count": 6,
   "metadata": {
    "collapsed": true
   },
   "outputs": [],
   "source": [
    "class LinearRegressionGD(object):\n",
    "    def __init__(self, eta=0.001, n_iter=20):\n",
    "        self.eta = eta\n",
    "        self.n_iter = n_iter\n",
    "    \n",
    "    def fit(self, X, y):\n",
    "        n_features = X.shape[1]\n",
    "        self.w_ = np.zeros(n_features+1)\n",
    "        self.cost_ = []\n",
    "        for _ in range(self.n_iter):\n",
    "            output = self.net_input(X)\n",
    "            self.w_[1:] += self.eta * (y-output).dot(X)\n",
    "            self.w_[0] += self.eta * np.sum(y-output)\n",
    "            self.cost_.append(np.sum((y-output)**2)/2)\n",
    "    \n",
    "    def net_input(self, X):\n",
    "        return self.w_[1:].dot(X.T) + self.w_[0]\n",
    "        \n",
    "    def predict(self, X):\n",
    "        return self.net_input(X)"
   ]
  },
  {
   "cell_type": "code",
   "execution_count": 7,
   "metadata": {
    "collapsed": true
   },
   "outputs": [],
   "source": [
    "X = df[['RM']].values"
   ]
  },
  {
   "cell_type": "code",
   "execution_count": 8,
   "metadata": {
    "collapsed": true
   },
   "outputs": [],
   "source": [
    "y = df[['MEDV']].values"
   ]
  },
  {
   "cell_type": "code",
   "execution_count": 9,
   "metadata": {
    "collapsed": true
   },
   "outputs": [],
   "source": [
    "from sklearn.preprocessing import StandardScaler\n",
    "sc_x = StandardScaler()\n",
    "sc_y = StandardScaler()\n",
    "X_std = sc_x.fit_transform(X)\n",
    "y_std = sc_y.fit_transform(y)"
   ]
  },
  {
   "cell_type": "code",
   "execution_count": 10,
   "metadata": {},
   "outputs": [
    {
     "data": {
      "text/plain": [
       "array([[ 0.15968566],\n",
       "       [-0.10152429],\n",
       "       [ 1.32424667],\n",
       "       [ 1.18275795],\n",
       "       [ 1.48750288],\n",
       "       [ 0.6712218 ],\n",
       "       [ 0.03996443],\n",
       "       [ 0.49708184],\n",
       "       [-0.65659542],\n",
       "       [-0.39538548],\n",
       "       [-0.81985164],\n",
       "       [-0.39538548],\n",
       "       [-0.09064054],\n",
       "       [-0.23212926],\n",
       "       [-0.47157171],\n",
       "       [-0.286548  ],\n",
       "       [ 0.06173193],\n",
       "       [-0.54775795],\n",
       "       [-0.25389676],\n",
       "       [-0.47157171],\n",
       "       [-0.97222411],\n",
       "       [-0.31919924],\n",
       "       [-0.79808414],\n",
       "       [-0.87427038],\n",
       "       [-0.75454915],\n",
       "       [-0.93957286],\n",
       "       [-0.64571167],\n",
       "       [-0.84161913],\n",
       "       [-0.44980422],\n",
       "       [-0.16682677],\n",
       "       [-1.07017784],\n",
       "       [-0.87427038],\n",
       "       [-1.0157591 ],\n",
       "       [-1.02664285],\n",
       "       [-0.98310786],\n",
       "       [-0.39538548],\n",
       "       [-0.27566425],\n",
       "       [-0.16682677],\n",
       "       [ 0.23587189],\n",
       "       [ 0.89978051],\n",
       "       [ 1.34601416],\n",
       "       [ 0.4426631 ],\n",
       "       [ 0.30117438],\n",
       "       [ 0.23587189],\n",
       "       [-0.14505928],\n",
       "       [-0.35185049],\n",
       "       [-0.27566425],\n",
       "       [-0.64571167],\n",
       "       [-0.88515413],\n",
       "       [-0.34096674],\n",
       "       [-0.30831549],\n",
       "       [-0.22124551],\n",
       "       [ 0.26852314],\n",
       "       [ 0.09438317],\n",
       "       [-0.39538548],\n",
       "       [ 1.4004329 ],\n",
       "       [ 0.23587189],\n",
       "       [ 0.98685049],\n",
       "       [ 0.08349942],\n",
       "       [-0.31919924],\n",
       "       [-0.41715297],\n",
       "       [-0.71101416],\n",
       "       [-0.0362218 ],\n",
       "       [ 0.26852314],\n",
       "       [ 1.13922296],\n",
       "       [ 0.10526692],\n",
       "       [-0.34096674],\n",
       "       [-0.0579893 ],\n",
       "       [-0.55864169],\n",
       "       [-0.17771052],\n",
       "       [ 0.18145315],\n",
       "       [-0.09064054],\n",
       "       [ 0.02908069],\n",
       "       [ 0.09438317],\n",
       "       [ 0.17056941],\n",
       "       [-0.12329178],\n",
       "       [-0.27566425],\n",
       "       [-0.18859427],\n",
       "       [-0.14505928],\n",
       "       [-0.24301301],\n",
       "       [ 0.59503557],\n",
       "       [ 0.14880191],\n",
       "       [ 0.24675564],\n",
       "       [ 0.03996443],\n",
       "       [ 0.14880191],\n",
       "       [ 0.4426631 ],\n",
       "       [-0.00357056],\n",
       "       [-0.0362218 ],\n",
       "       [ 0.11615067],\n",
       "       [ 0.6712218 ],\n",
       "       [ 0.00731319],\n",
       "       [-0.0579893 ],\n",
       "       [ 0.03996443],\n",
       "       [ 0.26852314],\n",
       "       [-0.21036176],\n",
       "       [ 0.63857056],\n",
       "       [-0.12329178],\n",
       "       [ 1.75959658],\n",
       "       [ 2.31466771],\n",
       "       [ 1.16099045],\n",
       "       [ 0.54061683],\n",
       "       [ 0.43177935],\n",
       "       [-0.42803672],\n",
       "       [-0.35185049],\n",
       "       [-0.2647805 ],\n",
       "       [-0.33008299],\n",
       "       [-0.33008299],\n",
       "       [-0.23212926],\n",
       "       [-0.29743175],\n",
       "       [-0.34096674],\n",
       "       [-0.09064054],\n",
       "       [ 0.02908069],\n",
       "       [-0.40626922],\n",
       "       [-0.41715297],\n",
       "       [-0.43892047],\n",
       "       [-0.46068796],\n",
       "       [-0.14505928],\n",
       "       [-0.36273423],\n",
       "       [-0.23212926],\n",
       "       [-0.35185049],\n",
       "       [-0.0579893 ],\n",
       "       [-0.24301301],\n",
       "       [-0.22124551],\n",
       "       [-0.56952544],\n",
       "       [-0.40626922],\n",
       "       [-0.12329178],\n",
       "       [-0.7436654 ],\n",
       "       [-0.68924667],\n",
       "       [-0.49333921],\n",
       "       [-0.89603787],\n",
       "       [-0.36273423],\n",
       "       [-0.31919924],\n",
       "       [ 0.05084818],\n",
       "       [-0.44980422],\n",
       "       [-0.75454915],\n",
       "       [-0.48245546],\n",
       "       [-0.55864169],\n",
       "       [-0.59129294],\n",
       "       [-1.00487535],\n",
       "       [-0.5151067 ],\n",
       "       [-0.92868912],\n",
       "       [-0.88515413],\n",
       "       [-0.9939916 ],\n",
       "       [-0.75454915],\n",
       "       [-1.16813157],\n",
       "       [-0.95045661],\n",
       "       [-0.75454915],\n",
       "       [-0.86338663],\n",
       "       [-0.5151067 ],\n",
       "       [-0.77631665],\n",
       "       [-0.11240804],\n",
       "       [-0.31919924],\n",
       "       [-0.7872004 ],\n",
       "       [-0.34096674],\n",
       "       [-0.60217668],\n",
       "       [-0.75454915],\n",
       "       [-1.02664285],\n",
       "       [ 2.04257402],\n",
       "       [ 0.1923369 ],\n",
       "       [ 0.08349942],\n",
       "       [ 0.48619809],\n",
       "       [ 2.98946007],\n",
       "       [ 2.98946007],\n",
       "       [ 2.98946007],\n",
       "       [ 0.01819694],\n",
       "       [ 0.26852314],\n",
       "       [ 2.98946007],\n",
       "       [ 0.13791816],\n",
       "       [ 0.13791816],\n",
       "       [-0.02533805],\n",
       "       [-0.55864169],\n",
       "       [-0.37361798],\n",
       "       [ 0.06173193],\n",
       "       [ 0.11615067],\n",
       "       [ 0.00731319],\n",
       "       [ 0.74740804],\n",
       "       [ 0.07261568],\n",
       "       [ 0.22498815],\n",
       "       [ 0.80182678],\n",
       "       [ 1.59634036],\n",
       "       [ 1.8793178 ],\n",
       "       [ 1.48750288],\n",
       "       [ 1.6725266 ],\n",
       "       [ 1.08480422],\n",
       "       [ 0.4208956 ],\n",
       "       [ 0.76917553],\n",
       "       [ 2.98946007],\n",
       "       [ 1.03038548],\n",
       "       [ 0.79094303],\n",
       "       [ 1.34601416],\n",
       "       [ 1.57457287],\n",
       "       [ 0.86712926],\n",
       "       [ 1.50927038],\n",
       "       [ 0.93243175],\n",
       "       [ 0.71475679],\n",
       "       [ 2.98946007],\n",
       "       [ 1.1718742 ],\n",
       "       [ 0.84536177],\n",
       "       [ 1.31336292],\n",
       "       [ 1.34601416],\n",
       "       [ 1.12833921],\n",
       "       [ 0.17056941],\n",
       "       [ 2.1514115 ],\n",
       "       [ 2.82620386],\n",
       "       [ 2.98946007],\n",
       "       [ 0.00731319],\n",
       "       [ 0.20322065],\n",
       "       [-0.00357056],\n",
       "       [ 0.20322065],\n",
       "       [-0.27566425],\n",
       "       [-0.09064054],\n",
       "       [-0.35185049],\n",
       "       [-0.01445431],\n",
       "       [ 0.60591932],\n",
       "       [ 0.12703442],\n",
       "       [ 0.26852314],\n",
       "       [ 0.08349942],\n",
       "       [ 0.6712218 ],\n",
       "       [-0.11240804],\n",
       "       [ 0.05084818],\n",
       "       [ 0.45354685],\n",
       "       [-0.09064054],\n",
       "       [ 0.54061683],\n",
       "       [ 0.82359427],\n",
       "       [ 2.42350519],\n",
       "       [ 2.98946007],\n",
       "       [ 1.63987535],\n",
       "       [ 0.98685049],\n",
       "       [ 2.6302964 ],\n",
       "       [ 0.97596674],\n",
       "       [ 0.1923369 ],\n",
       "       [ 0.99773424],\n",
       "       [ 2.08610901],\n",
       "       [ 2.80443636],\n",
       "       [ 0.70387305],\n",
       "       [ 0.15968566],\n",
       "       [ 0.27940688],\n",
       "       [ 0.97596674],\n",
       "       [ 0.12703442],\n",
       "       [ 0.08349942],\n",
       "       [-0.0579893 ],\n",
       "       [-0.2647805 ],\n",
       "       [-0.0362218 ],\n",
       "       [ 0.12703442],\n",
       "       [-0.5368742 ],\n",
       "       [-0.43892047],\n",
       "       [ 0.1923369 ],\n",
       "       [-0.22124551],\n",
       "       [ 0.2141044 ],\n",
       "       [ 0.39912811],\n",
       "       [ 0.20322065],\n",
       "       [ 0.24675564],\n",
       "       [ 0.76917553],\n",
       "       [ 2.20583024],\n",
       "       [-0.06887304],\n",
       "       [-0.17771052],\n",
       "       [ 2.33643521],\n",
       "       [ 2.98946007],\n",
       "       [ 1.46573539],\n",
       "       [ 0.82359427],\n",
       "       [ 1.22629294],\n",
       "       [ 2.23848148],\n",
       "       [ 2.8588551 ],\n",
       "       [ 0.921548  ],\n",
       "       [ 1.52015413],\n",
       "       [ 0.02908069],\n",
       "       [ 0.88889676],\n",
       "       [ 2.98946007],\n",
       "       [ 2.28201647],\n",
       "       [-0.19947802],\n",
       "       [-0.15594303],\n",
       "       [ 0.29029063],\n",
       "       [ 0.20322065],\n",
       "       [ 1.37866541],\n",
       "       [ 1.07392047],\n",
       "       [ 1.03038548],\n",
       "       [ 1.16099045],\n",
       "       [ 1.1501067 ],\n",
       "       [ 0.71475679],\n",
       "       [ 1.36778166],\n",
       "       [ 2.48880768],\n",
       "       [ 1.4004329 ],\n",
       "       [ 2.55411016],\n",
       "       [ 2.98946007],\n",
       "       [ 1.05215297],\n",
       "       [-0.0579893 ],\n",
       "       [-0.2647805 ],\n",
       "       [ 0.07261568],\n",
       "       [-0.02533805],\n",
       "       [ 0.24675564],\n",
       "       [ 0.64945431],\n",
       "       [ 1.60722411],\n",
       "       [ 0.58415182],\n",
       "       [ 0.14880191],\n",
       "       [-0.09064054],\n",
       "       [ 0.66033806],\n",
       "       [ 0.49708184],\n",
       "       [-0.24301301],\n",
       "       [-0.00357056],\n",
       "       [ 0.70387305],\n",
       "       [ 0.24675564],\n",
       "       [-0.0579893 ],\n",
       "       [ 0.4208956 ],\n",
       "       [ 1.1501067 ],\n",
       "       [ 1.47661914],\n",
       "       [ 0.63857056],\n",
       "       [ 1.18275795],\n",
       "       [ 0.61680306],\n",
       "       [ 0.02908069],\n",
       "       [-0.24301301],\n",
       "       [-0.70013041],\n",
       "       [-0.04710555],\n",
       "       [-0.34096674],\n",
       "       [-0.10152429],\n",
       "       [ 0.13791816],\n",
       "       [-0.68924667],\n",
       "       [-0.5151067 ],\n",
       "       [-0.29743175],\n",
       "       [ 0.06173193],\n",
       "       [-0.16682677],\n",
       "       [ 0.13791816],\n",
       "       [ 0.06173193],\n",
       "       [-0.23212926],\n",
       "       [-0.43892047],\n",
       "       [ 0.26852314],\n",
       "       [ 0.22498815],\n",
       "       [ 0.05084818],\n",
       "       [-0.0362218 ],\n",
       "       [-0.35185049],\n",
       "       [ 0.00731319],\n",
       "       [-0.29743175],\n",
       "       [-0.59129294],\n",
       "       [-0.34096674],\n",
       "       [-0.0362218 ],\n",
       "       [-0.19947802],\n",
       "       [-0.15594303],\n",
       "       [-0.33008299],\n",
       "       [-0.43892047],\n",
       "       [-0.21036176],\n",
       "       [-0.38450173],\n",
       "       [-0.41715297],\n",
       "       [ 1.10657171],\n",
       "       [-0.65659542],\n",
       "       [ 0.14880191],\n",
       "       [ 0.9433155 ],\n",
       "       [-0.54775795],\n",
       "       [-0.58040919],\n",
       "       [ 0.06173193],\n",
       "       [ 0.2141044 ],\n",
       "       [ 0.4426631 ],\n",
       "       [ 0.03996443],\n",
       "       [ 0.17056941],\n",
       "       [-0.42803672],\n",
       "       [ 0.82359427],\n",
       "       [-0.47157171],\n",
       "       [-0.21036176],\n",
       "       [-0.5151067 ],\n",
       "       [-0.09064054],\n",
       "       [ 0.01819694],\n",
       "       [ 0.00731319],\n",
       "       [ 0.26852314],\n",
       "       [-0.286548  ],\n",
       "       [-0.18859427],\n",
       "       [-0.62394418],\n",
       "       [-0.06887304],\n",
       "       [ 0.54061683],\n",
       "       [-0.06887304],\n",
       "       [ 0.06173193],\n",
       "       [ 2.98946007],\n",
       "       [ 2.98946007],\n",
       "       [ 2.98946007],\n",
       "       [ 2.98946007],\n",
       "       [ 2.98946007],\n",
       "       [-0.95045661],\n",
       "       [-0.95045661],\n",
       "       [-0.81985164],\n",
       "       [-0.93957286],\n",
       "       [-1.00487535],\n",
       "       [-1.02664285],\n",
       "       [-1.34227153],\n",
       "       [-1.32050404],\n",
       "       [-1.2660853 ],\n",
       "       [-1.22255031],\n",
       "       [-1.11371283],\n",
       "       [-1.494644  ],\n",
       "       [-1.66878396],\n",
       "       [-1.30962029],\n",
       "       [-1.64701647],\n",
       "       [-1.34227153],\n",
       "       [-1.20078281],\n",
       "       [-0.80896789],\n",
       "       [ 0.07261568],\n",
       "       [-1.39669027],\n",
       "       [-0.95045661],\n",
       "       [-1.07017784],\n",
       "       [-1.02664285],\n",
       "       [-1.09194533],\n",
       "       [-1.52729524],\n",
       "       [-1.90822641],\n",
       "       [-1.76673769],\n",
       "       [-1.84292393],\n",
       "       [-1.66878396],\n",
       "       [-1.13548032],\n",
       "       [-1.54906274],\n",
       "       [-1.52729524],\n",
       "       [-1.90822641],\n",
       "       [-1.15724782],\n",
       "       [ 0.58415182],\n",
       "       [-0.58040919],\n",
       "       [ 0.54061683],\n",
       "       [-0.81985164],\n",
       "       [-0.58040919],\n",
       "       [-0.50422295],\n",
       "       [-0.67836292],\n",
       "       [-1.69055146],\n",
       "       [-1.66878396],\n",
       "       [-1.63613272],\n",
       "       [-1.32050404],\n",
       "       [-1.494644  ],\n",
       "       [-1.53817899],\n",
       "       [-0.63482793],\n",
       "       [-0.90692162],\n",
       "       [-0.18859427],\n",
       "       [-0.9939916 ],\n",
       "       [-1.17901531],\n",
       "       [-1.54906274],\n",
       "       [-1.34227153],\n",
       "       [-1.2660853 ],\n",
       "       [-1.25520155],\n",
       "       [-1.41845777],\n",
       "       [-0.87427038],\n",
       "       [-0.91780537],\n",
       "       [-0.70013041],\n",
       "       [-0.89603787],\n",
       "       [-1.17901531],\n",
       "       [-0.9939916 ],\n",
       "       [-1.40757402],\n",
       "       [-1.50552775],\n",
       "       [-1.53817899],\n",
       "       [-1.05929409],\n",
       "       [-1.30962029],\n",
       "       [-0.59129294],\n",
       "       [-0.44980422],\n",
       "       [-0.77631665],\n",
       "       [-1.27696904],\n",
       "       [-1.16813157],\n",
       "       [-0.83073539],\n",
       "       [-1.08106158],\n",
       "       [-0.91780537],\n",
       "       [-1.03752659],\n",
       "       [-0.9939916 ],\n",
       "       [-0.79808414],\n",
       "       [-0.70013041],\n",
       "       [-0.5151067 ],\n",
       "       [-0.83073539],\n",
       "       [-0.91780537],\n",
       "       [-1.07017784],\n",
       "       [-0.98310786],\n",
       "       [-0.83073539],\n",
       "       [-0.27566425],\n",
       "       [-0.66747917],\n",
       "       [-0.52599045],\n",
       "       [-0.33008299],\n",
       "       [-0.25389676],\n",
       "       [-0.12329178],\n",
       "       [-0.286548  ],\n",
       "       [-0.38450173],\n",
       "       [-0.37361798],\n",
       "       [-0.37361798],\n",
       "       [-0.2647805 ],\n",
       "       [-0.286548  ],\n",
       "       [-0.31919924],\n",
       "       [ 0.07261568],\n",
       "       [ 0.79094303],\n",
       "       [-0.95045661],\n",
       "       [-1.00487535],\n",
       "       [-0.63482793],\n",
       "       [-1.14636407],\n",
       "       [-0.86338663],\n",
       "       [-0.12329178],\n",
       "       [ 0.05084818],\n",
       "       [ 0.12703442],\n",
       "       [ 0.26852314],\n",
       "       [-0.07975679],\n",
       "       [-0.21036176],\n",
       "       [-0.14505928],\n",
       "       [-0.37361798],\n",
       "       [-0.21036176],\n",
       "       [-0.79808414],\n",
       "       [-1.69055146],\n",
       "       [-1.57083023],\n",
       "       [-0.97222411],\n",
       "       [-0.2647805 ],\n",
       "       [-0.07975679],\n",
       "       [ 0.2141044 ],\n",
       "       [ 0.06173193],\n",
       "       [-0.30831549],\n",
       "       [-0.46068796],\n",
       "       [-0.14505928],\n",
       "       [-0.54775795],\n",
       "       [-0.62394418],\n",
       "       [-0.01445431],\n",
       "       [-0.21036176],\n",
       "       [ 0.14880191],\n",
       "       [-0.0579893 ],\n",
       "       [-1.15724782]])"
      ]
     },
     "execution_count": 10,
     "metadata": {},
     "output_type": "execute_result"
    }
   ],
   "source": [
    "y_std"
   ]
  },
  {
   "cell_type": "code",
   "execution_count": 11,
   "metadata": {},
   "outputs": [
    {
     "data": {
      "text/plain": [
       "(506, 1)"
      ]
     },
     "execution_count": 11,
     "metadata": {},
     "output_type": "execute_result"
    }
   ],
   "source": [
    "y_std.shape"
   ]
  },
  {
   "cell_type": "code",
   "execution_count": 12,
   "metadata": {
    "collapsed": true
   },
   "outputs": [],
   "source": [
    "y_std = y_std.reshape((y_std.shape[0]))"
   ]
  },
  {
   "cell_type": "code",
   "execution_count": 13,
   "metadata": {
    "collapsed": true
   },
   "outputs": [],
   "source": [
    "lr = LinearRegressionGD()"
   ]
  },
  {
   "cell_type": "code",
   "execution_count": 14,
   "metadata": {
    "collapsed": true
   },
   "outputs": [],
   "source": [
    "lr.fit(X_std, y_std)"
   ]
  },
  {
   "cell_type": "code",
   "execution_count": 15,
   "metadata": {},
   "outputs": [
    {
     "data": {
      "image/png": "[encoded data removed]",
      "text/plain": [
       "<matplotlib.figure.Figure at 0x11376d90>"
      ]
     },
     "metadata": {},
     "output_type": "display_data"
    }
   ],
   "source": [
    "sns.reset_orig()\n",
    "plt.plot(range(1, lr.n_iter+1), lr.cost_)\n",
    "plt.ylabel('SSE')\n",
    "plt.xlabel('Epoch')\n",
    "plt.show()"
   ]
  },
  {
   "cell_type": "code",
   "execution_count": 16,
   "metadata": {
    "collapsed": true
   },
   "outputs": [],
   "source": [
    "def lin_regplot(X, y, model):\n",
    "    plt.scatter(X, y, c='blue')\n",
    "    plt.plot(X, model.predict(X), c='red')\n",
    "    return None"
   ]
  },
  {
   "cell_type": "code",
   "execution_count": 17,
   "metadata": {},
   "outputs": [
    {
     "data": {
      "image/png": "[encoded data removed]",
      "text/plain": [
       "<matplotlib.figure.Figure at 0x11376cf0>"
      ]
     },
     "metadata": {},
     "output_type": "display_data"
    }
   ],
   "source": [
    "lin_regplot(X_std, y_std, lr)\n",
    "plt.xlabel('Average number of rooms[RM] (std)')\n",
    "plt.ylabel('Price in $1000\\'s [MEDV] (std)')\n",
    "plt.show()"
   ]
  },
  {
   "cell_type": "code",
   "execution_count": 18,
   "metadata": {
    "collapsed": true
   },
   "outputs": [],
   "source": [
    "num_rooms_std = sc_x.transform([[5.0]])"
   ]
  },
  {
   "cell_type": "code",
   "execution_count": 19,
   "metadata": {},
   "outputs": [
    {
     "data": {
      "text/plain": [
       "array([[-1.83016553]])"
      ]
     },
     "execution_count": 19,
     "metadata": {},
     "output_type": "execute_result"
    }
   ],
   "source": [
    "num_rooms_std"
   ]
  },
  {
   "cell_type": "code",
   "execution_count": 20,
   "metadata": {
    "collapsed": true
   },
   "outputs": [],
   "source": [
    "price_std = lr.predict(num_rooms_std)"
   ]
  },
  {
   "cell_type": "code",
   "execution_count": 21,
   "metadata": {},
   "outputs": [
    {
     "data": {
      "text/plain": [
       "array([-1.27262285])"
      ]
     },
     "execution_count": 21,
     "metadata": {},
     "output_type": "execute_result"
    }
   ],
   "source": [
    "price_std"
   ]
  },
  {
   "cell_type": "code",
   "execution_count": 22,
   "metadata": {},
   "outputs": [
    {
     "name": "stdout",
     "output_type": "stream",
     "text": [
      "Price in $1000's: 10.840\n"
     ]
    }
   ],
   "source": [
    "print(\"Price in $1000\\'s: %.3f\" % sc_y.inverse_transform(price_std))"
   ]
  },
  {
   "cell_type": "code",
   "execution_count": 23,
   "metadata": {},
   "outputs": [
    {
     "name": "stdout",
     "output_type": "stream",
     "text": [
      "slope: 0.695\n"
     ]
    }
   ],
   "source": [
    "print(\"slope: %.3f\" % lr.w_[1])"
   ]
  },
  {
   "cell_type": "code",
   "execution_count": 24,
   "metadata": {},
   "outputs": [
    {
     "name": "stdout",
     "output_type": "stream",
     "text": [
      "intercept: -0.000\n"
     ]
    }
   ],
   "source": [
    "print(\"intercept: %.3f\" % lr.w_[0])"
   ]
  },
  {
   "cell_type": "markdown",
   "metadata": {},
   "source": [
    "# Estimating the coefficient of a regression model via scikit-learn"
   ]
  },
  {
   "cell_type": "code",
   "execution_count": 25,
   "metadata": {},
   "outputs": [
    {
     "name": "stdout",
     "output_type": "stream",
     "text": [
      "slope: 9.102\n",
      "intercept: -34.671\n"
     ]
    }
   ],
   "source": [
    "from sklearn.linear_model import LinearRegression\n",
    "slr = LinearRegression()\n",
    "slr.fit(X, y)\n",
    "print('slope: %.3f' % slr.coef_[0][0])\n",
    "print('intercept: %.3f' % slr.intercept_)"
   ]
  },
  {
   "cell_type": "code",
   "execution_count": 26,
   "metadata": {},
   "outputs": [
    {
     "data": {
      "text/plain": [
       "array([[ 6.575],\n",
       "       [ 6.421],\n",
       "       [ 7.185],\n",
       "       [ 6.998],\n",
       "       [ 7.147],\n",
       "       [ 6.43 ],\n",
       "       [ 6.012],\n",
       "       [ 6.172],\n",
       "       [ 5.631],\n",
       "       [ 6.004],\n",
       "       [ 6.377],\n",
       "       [ 6.009],\n",
       "       [ 5.889],\n",
       "       [ 5.949],\n",
       "       [ 6.096],\n",
       "       [ 5.834],\n",
       "       [ 5.935],\n",
       "       [ 5.99 ],\n",
       "       [ 5.456],\n",
       "       [ 5.727],\n",
       "       [ 5.57 ],\n",
       "       [ 5.965],\n",
       "       [ 6.142],\n",
       "       [ 5.813],\n",
       "       [ 5.924],\n",
       "       [ 5.599],\n",
       "       [ 5.813],\n",
       "       [ 6.047],\n",
       "       [ 6.495],\n",
       "       [ 6.674],\n",
       "       [ 5.713],\n",
       "       [ 6.072],\n",
       "       [ 5.95 ],\n",
       "       [ 5.701],\n",
       "       [ 6.096],\n",
       "       [ 5.933],\n",
       "       [ 5.841],\n",
       "       [ 5.85 ],\n",
       "       [ 5.966],\n",
       "       [ 6.595],\n",
       "       [ 7.024],\n",
       "       [ 6.77 ],\n",
       "       [ 6.169],\n",
       "       [ 6.211],\n",
       "       [ 6.069],\n",
       "       [ 5.682],\n",
       "       [ 5.786],\n",
       "       [ 6.03 ],\n",
       "       [ 5.399],\n",
       "       [ 5.602],\n",
       "       [ 5.963],\n",
       "       [ 6.115],\n",
       "       [ 6.511],\n",
       "       [ 5.998],\n",
       "       [ 5.888],\n",
       "       [ 7.249],\n",
       "       [ 6.383],\n",
       "       [ 6.816],\n",
       "       [ 6.145],\n",
       "       [ 5.927],\n",
       "       [ 5.741],\n",
       "       [ 5.966],\n",
       "       [ 6.456],\n",
       "       [ 6.762],\n",
       "       [ 7.104],\n",
       "       [ 6.29 ],\n",
       "       [ 5.787],\n",
       "       [ 5.878],\n",
       "       [ 5.594],\n",
       "       [ 5.885],\n",
       "       [ 6.417],\n",
       "       [ 5.961],\n",
       "       [ 6.065],\n",
       "       [ 6.245],\n",
       "       [ 6.273],\n",
       "       [ 6.286],\n",
       "       [ 6.279],\n",
       "       [ 6.14 ],\n",
       "       [ 6.232],\n",
       "       [ 5.874],\n",
       "       [ 6.727],\n",
       "       [ 6.619],\n",
       "       [ 6.302],\n",
       "       [ 6.167],\n",
       "       [ 6.389],\n",
       "       [ 6.63 ],\n",
       "       [ 6.015],\n",
       "       [ 6.121],\n",
       "       [ 7.007],\n",
       "       [ 7.079],\n",
       "       [ 6.417],\n",
       "       [ 6.405],\n",
       "       [ 6.442],\n",
       "       [ 6.211],\n",
       "       [ 6.249],\n",
       "       [ 6.625],\n",
       "       [ 6.163],\n",
       "       [ 8.069],\n",
       "       [ 7.82 ],\n",
       "       [ 7.416],\n",
       "       [ 6.727],\n",
       "       [ 6.781],\n",
       "       [ 6.405],\n",
       "       [ 6.137],\n",
       "       [ 6.167],\n",
       "       [ 5.851],\n",
       "       [ 5.836],\n",
       "       [ 6.127],\n",
       "       [ 6.474],\n",
       "       [ 6.229],\n",
       "       [ 6.195],\n",
       "       [ 6.715],\n",
       "       [ 5.913],\n",
       "       [ 6.092],\n",
       "       [ 6.254],\n",
       "       [ 5.928],\n",
       "       [ 6.176],\n",
       "       [ 6.021],\n",
       "       [ 5.872],\n",
       "       [ 5.731],\n",
       "       [ 5.87 ],\n",
       "       [ 6.004],\n",
       "       [ 5.961],\n",
       "       [ 5.856],\n",
       "       [ 5.879],\n",
       "       [ 5.986],\n",
       "       [ 5.613],\n",
       "       [ 5.693],\n",
       "       [ 6.431],\n",
       "       [ 5.637],\n",
       "       [ 6.458],\n",
       "       [ 6.326],\n",
       "       [ 6.372],\n",
       "       [ 5.822],\n",
       "       [ 5.757],\n",
       "       [ 6.335],\n",
       "       [ 5.942],\n",
       "       [ 6.454],\n",
       "       [ 5.857],\n",
       "       [ 6.151],\n",
       "       [ 6.174],\n",
       "       [ 5.019],\n",
       "       [ 5.403],\n",
       "       [ 5.468],\n",
       "       [ 4.903],\n",
       "       [ 6.13 ],\n",
       "       [ 5.628],\n",
       "       [ 4.926],\n",
       "       [ 5.186],\n",
       "       [ 5.597],\n",
       "       [ 6.122],\n",
       "       [ 5.404],\n",
       "       [ 5.012],\n",
       "       [ 5.709],\n",
       "       [ 6.129],\n",
       "       [ 6.152],\n",
       "       [ 5.272],\n",
       "       [ 6.943],\n",
       "       [ 6.066],\n",
       "       [ 6.51 ],\n",
       "       [ 6.25 ],\n",
       "       [ 7.489],\n",
       "       [ 7.802],\n",
       "       [ 8.375],\n",
       "       [ 5.854],\n",
       "       [ 6.101],\n",
       "       [ 7.929],\n",
       "       [ 5.877],\n",
       "       [ 6.319],\n",
       "       [ 6.402],\n",
       "       [ 5.875],\n",
       "       [ 5.88 ],\n",
       "       [ 5.572],\n",
       "       [ 6.416],\n",
       "       [ 5.859],\n",
       "       [ 6.546],\n",
       "       [ 6.02 ],\n",
       "       [ 6.315],\n",
       "       [ 6.86 ],\n",
       "       [ 6.98 ],\n",
       "       [ 7.765],\n",
       "       [ 6.144],\n",
       "       [ 7.155],\n",
       "       [ 6.563],\n",
       "       [ 5.604],\n",
       "       [ 6.153],\n",
       "       [ 7.831],\n",
       "       [ 6.782],\n",
       "       [ 6.556],\n",
       "       [ 7.185],\n",
       "       [ 6.951],\n",
       "       [ 6.739],\n",
       "       [ 7.178],\n",
       "       [ 6.8  ],\n",
       "       [ 6.604],\n",
       "       [ 7.875],\n",
       "       [ 7.287],\n",
       "       [ 7.107],\n",
       "       [ 7.274],\n",
       "       [ 6.975],\n",
       "       [ 7.135],\n",
       "       [ 6.162],\n",
       "       [ 7.61 ],\n",
       "       [ 7.853],\n",
       "       [ 8.034],\n",
       "       [ 5.891],\n",
       "       [ 6.326],\n",
       "       [ 5.783],\n",
       "       [ 6.064],\n",
       "       [ 5.344],\n",
       "       [ 5.96 ],\n",
       "       [ 5.404],\n",
       "       [ 5.807],\n",
       "       [ 6.375],\n",
       "       [ 5.412],\n",
       "       [ 6.182],\n",
       "       [ 5.888],\n",
       "       [ 6.642],\n",
       "       [ 5.951],\n",
       "       [ 6.373],\n",
       "       [ 6.951],\n",
       "       [ 6.164],\n",
       "       [ 6.879],\n",
       "       [ 6.618],\n",
       "       [ 8.266],\n",
       "       [ 8.725],\n",
       "       [ 8.04 ],\n",
       "       [ 7.163],\n",
       "       [ 7.686],\n",
       "       [ 6.552],\n",
       "       [ 5.981],\n",
       "       [ 7.412],\n",
       "       [ 8.337],\n",
       "       [ 8.247],\n",
       "       [ 6.726],\n",
       "       [ 6.086],\n",
       "       [ 6.631],\n",
       "       [ 7.358],\n",
       "       [ 6.481],\n",
       "       [ 6.606],\n",
       "       [ 6.897],\n",
       "       [ 6.095],\n",
       "       [ 6.358],\n",
       "       [ 6.393],\n",
       "       [ 5.593],\n",
       "       [ 5.605],\n",
       "       [ 6.108],\n",
       "       [ 6.226],\n",
       "       [ 6.433],\n",
       "       [ 6.718],\n",
       "       [ 6.487],\n",
       "       [ 6.438],\n",
       "       [ 6.957],\n",
       "       [ 8.259],\n",
       "       [ 6.108],\n",
       "       [ 5.876],\n",
       "       [ 7.454],\n",
       "       [ 8.704],\n",
       "       [ 7.333],\n",
       "       [ 6.842],\n",
       "       [ 7.203],\n",
       "       [ 7.52 ],\n",
       "       [ 8.398],\n",
       "       [ 7.327],\n",
       "       [ 7.206],\n",
       "       [ 5.56 ],\n",
       "       [ 7.014],\n",
       "       [ 8.297],\n",
       "       [ 7.47 ],\n",
       "       [ 5.92 ],\n",
       "       [ 5.856],\n",
       "       [ 6.24 ],\n",
       "       [ 6.538],\n",
       "       [ 7.691],\n",
       "       [ 6.758],\n",
       "       [ 6.854],\n",
       "       [ 7.267],\n",
       "       [ 6.826],\n",
       "       [ 6.482],\n",
       "       [ 6.812],\n",
       "       [ 7.82 ],\n",
       "       [ 6.968],\n",
       "       [ 7.645],\n",
       "       [ 7.923],\n",
       "       [ 7.088],\n",
       "       [ 6.453],\n",
       "       [ 6.23 ],\n",
       "       [ 6.209],\n",
       "       [ 6.315],\n",
       "       [ 6.565],\n",
       "       [ 6.861],\n",
       "       [ 7.148],\n",
       "       [ 6.63 ],\n",
       "       [ 6.127],\n",
       "       [ 6.009],\n",
       "       [ 6.678],\n",
       "       [ 6.549],\n",
       "       [ 5.79 ],\n",
       "       [ 6.345],\n",
       "       [ 7.041],\n",
       "       [ 6.871],\n",
       "       [ 6.59 ],\n",
       "       [ 6.495],\n",
       "       [ 6.982],\n",
       "       [ 7.236],\n",
       "       [ 6.616],\n",
       "       [ 7.42 ],\n",
       "       [ 6.849],\n",
       "       [ 6.635],\n",
       "       [ 5.972],\n",
       "       [ 4.973],\n",
       "       [ 6.122],\n",
       "       [ 6.023],\n",
       "       [ 6.266],\n",
       "       [ 6.567],\n",
       "       [ 5.705],\n",
       "       [ 5.914],\n",
       "       [ 5.782],\n",
       "       [ 6.382],\n",
       "       [ 6.113],\n",
       "       [ 6.426],\n",
       "       [ 6.376],\n",
       "       [ 6.041],\n",
       "       [ 5.708],\n",
       "       [ 6.415],\n",
       "       [ 6.431],\n",
       "       [ 6.312],\n",
       "       [ 6.083],\n",
       "       [ 5.868],\n",
       "       [ 6.333],\n",
       "       [ 6.144],\n",
       "       [ 5.706],\n",
       "       [ 6.031],\n",
       "       [ 6.316],\n",
       "       [ 6.31 ],\n",
       "       [ 6.037],\n",
       "       [ 5.869],\n",
       "       [ 5.895],\n",
       "       [ 6.059],\n",
       "       [ 5.985],\n",
       "       [ 5.968],\n",
       "       [ 7.241],\n",
       "       [ 6.54 ],\n",
       "       [ 6.696],\n",
       "       [ 6.874],\n",
       "       [ 6.014],\n",
       "       [ 5.898],\n",
       "       [ 6.516],\n",
       "       [ 6.635],\n",
       "       [ 6.939],\n",
       "       [ 6.49 ],\n",
       "       [ 6.579],\n",
       "       [ 5.884],\n",
       "       [ 6.728],\n",
       "       [ 5.663],\n",
       "       [ 5.936],\n",
       "       [ 6.212],\n",
       "       [ 6.395],\n",
       "       [ 6.127],\n",
       "       [ 6.112],\n",
       "       [ 6.398],\n",
       "       [ 6.251],\n",
       "       [ 5.362],\n",
       "       [ 5.803],\n",
       "       [ 8.78 ],\n",
       "       [ 3.561],\n",
       "       [ 4.963],\n",
       "       [ 3.863],\n",
       "       [ 4.97 ],\n",
       "       [ 6.683],\n",
       "       [ 7.016],\n",
       "       [ 6.216],\n",
       "       [ 5.875],\n",
       "       [ 4.906],\n",
       "       [ 4.138],\n",
       "       [ 7.313],\n",
       "       [ 6.649],\n",
       "       [ 6.794],\n",
       "       [ 6.38 ],\n",
       "       [ 6.223],\n",
       "       [ 6.968],\n",
       "       [ 6.545],\n",
       "       [ 5.536],\n",
       "       [ 5.52 ],\n",
       "       [ 4.368],\n",
       "       [ 5.277],\n",
       "       [ 4.652],\n",
       "       [ 5.   ],\n",
       "       [ 4.88 ],\n",
       "       [ 5.39 ],\n",
       "       [ 5.713],\n",
       "       [ 6.051],\n",
       "       [ 5.036],\n",
       "       [ 6.193],\n",
       "       [ 5.887],\n",
       "       [ 6.471],\n",
       "       [ 6.405],\n",
       "       [ 5.747],\n",
       "       [ 5.453],\n",
       "       [ 5.852],\n",
       "       [ 5.987],\n",
       "       [ 6.343],\n",
       "       [ 6.404],\n",
       "       [ 5.349],\n",
       "       [ 5.531],\n",
       "       [ 5.683],\n",
       "       [ 4.138],\n",
       "       [ 5.608],\n",
       "       [ 5.617],\n",
       "       [ 6.852],\n",
       "       [ 5.757],\n",
       "       [ 6.657],\n",
       "       [ 4.628],\n",
       "       [ 5.155],\n",
       "       [ 4.519],\n",
       "       [ 6.434],\n",
       "       [ 6.782],\n",
       "       [ 5.304],\n",
       "       [ 5.957],\n",
       "       [ 6.824],\n",
       "       [ 6.411],\n",
       "       [ 6.006],\n",
       "       [ 5.648],\n",
       "       [ 6.103],\n",
       "       [ 5.565],\n",
       "       [ 5.896],\n",
       "       [ 5.837],\n",
       "       [ 6.202],\n",
       "       [ 6.193],\n",
       "       [ 6.38 ],\n",
       "       [ 6.348],\n",
       "       [ 6.833],\n",
       "       [ 6.425],\n",
       "       [ 6.436],\n",
       "       [ 6.208],\n",
       "       [ 6.629],\n",
       "       [ 6.461],\n",
       "       [ 6.152],\n",
       "       [ 5.935],\n",
       "       [ 5.627],\n",
       "       [ 5.818],\n",
       "       [ 6.406],\n",
       "       [ 6.219],\n",
       "       [ 6.485],\n",
       "       [ 5.854],\n",
       "       [ 6.459],\n",
       "       [ 6.341],\n",
       "       [ 6.251],\n",
       "       [ 6.185],\n",
       "       [ 6.417],\n",
       "       [ 6.749],\n",
       "       [ 6.655],\n",
       "       [ 6.297],\n",
       "       [ 7.393],\n",
       "       [ 6.728],\n",
       "       [ 6.525],\n",
       "       [ 5.976],\n",
       "       [ 5.936],\n",
       "       [ 6.301],\n",
       "       [ 6.081],\n",
       "       [ 6.701],\n",
       "       [ 6.376],\n",
       "       [ 6.317],\n",
       "       [ 6.513],\n",
       "       [ 6.209],\n",
       "       [ 5.759],\n",
       "       [ 5.952],\n",
       "       [ 6.003],\n",
       "       [ 5.926],\n",
       "       [ 5.713],\n",
       "       [ 6.167],\n",
       "       [ 6.229],\n",
       "       [ 6.437],\n",
       "       [ 6.98 ],\n",
       "       [ 5.427],\n",
       "       [ 6.162],\n",
       "       [ 6.484],\n",
       "       [ 5.304],\n",
       "       [ 6.185],\n",
       "       [ 6.229],\n",
       "       [ 6.242],\n",
       "       [ 6.75 ],\n",
       "       [ 7.061],\n",
       "       [ 5.762],\n",
       "       [ 5.871],\n",
       "       [ 6.312],\n",
       "       [ 6.114],\n",
       "       [ 5.905],\n",
       "       [ 5.454],\n",
       "       [ 5.414],\n",
       "       [ 5.093],\n",
       "       [ 5.983],\n",
       "       [ 5.983],\n",
       "       [ 5.707],\n",
       "       [ 5.926],\n",
       "       [ 5.67 ],\n",
       "       [ 5.39 ],\n",
       "       [ 5.794],\n",
       "       [ 6.019],\n",
       "       [ 5.569],\n",
       "       [ 6.027],\n",
       "       [ 6.593],\n",
       "       [ 6.12 ],\n",
       "       [ 6.976],\n",
       "       [ 6.794],\n",
       "       [ 6.03 ]])"
      ]
     },
     "execution_count": 26,
     "metadata": {},
     "output_type": "execute_result"
    }
   ],
   "source": [
    "X"
   ]
  },
  {
   "cell_type": "code",
   "execution_count": 27,
   "metadata": {},
   "outputs": [
    {
     "data": {
      "text/plain": [
       "array([[ 24. ],\n",
       "       [ 21.6],\n",
       "       [ 34.7],\n",
       "       [ 33.4],\n",
       "       [ 36.2],\n",
       "       [ 28.7],\n",
       "       [ 22.9],\n",
       "       [ 27.1],\n",
       "       [ 16.5],\n",
       "       [ 18.9],\n",
       "       [ 15. ],\n",
       "       [ 18.9],\n",
       "       [ 21.7],\n",
       "       [ 20.4],\n",
       "       [ 18.2],\n",
       "       [ 19.9],\n",
       "       [ 23.1],\n",
       "       [ 17.5],\n",
       "       [ 20.2],\n",
       "       [ 18.2],\n",
       "       [ 13.6],\n",
       "       [ 19.6],\n",
       "       [ 15.2],\n",
       "       [ 14.5],\n",
       "       [ 15.6],\n",
       "       [ 13.9],\n",
       "       [ 16.6],\n",
       "       [ 14.8],\n",
       "       [ 18.4],\n",
       "       [ 21. ],\n",
       "       [ 12.7],\n",
       "       [ 14.5],\n",
       "       [ 13.2],\n",
       "       [ 13.1],\n",
       "       [ 13.5],\n",
       "       [ 18.9],\n",
       "       [ 20. ],\n",
       "       [ 21. ],\n",
       "       [ 24.7],\n",
       "       [ 30.8],\n",
       "       [ 34.9],\n",
       "       [ 26.6],\n",
       "       [ 25.3],\n",
       "       [ 24.7],\n",
       "       [ 21.2],\n",
       "       [ 19.3],\n",
       "       [ 20. ],\n",
       "       [ 16.6],\n",
       "       [ 14.4],\n",
       "       [ 19.4],\n",
       "       [ 19.7],\n",
       "       [ 20.5],\n",
       "       [ 25. ],\n",
       "       [ 23.4],\n",
       "       [ 18.9],\n",
       "       [ 35.4],\n",
       "       [ 24.7],\n",
       "       [ 31.6],\n",
       "       [ 23.3],\n",
       "       [ 19.6],\n",
       "       [ 18.7],\n",
       "       [ 16. ],\n",
       "       [ 22.2],\n",
       "       [ 25. ],\n",
       "       [ 33. ],\n",
       "       [ 23.5],\n",
       "       [ 19.4],\n",
       "       [ 22. ],\n",
       "       [ 17.4],\n",
       "       [ 20.9],\n",
       "       [ 24.2],\n",
       "       [ 21.7],\n",
       "       [ 22.8],\n",
       "       [ 23.4],\n",
       "       [ 24.1],\n",
       "       [ 21.4],\n",
       "       [ 20. ],\n",
       "       [ 20.8],\n",
       "       [ 21.2],\n",
       "       [ 20.3],\n",
       "       [ 28. ],\n",
       "       [ 23.9],\n",
       "       [ 24.8],\n",
       "       [ 22.9],\n",
       "       [ 23.9],\n",
       "       [ 26.6],\n",
       "       [ 22.5],\n",
       "       [ 22.2],\n",
       "       [ 23.6],\n",
       "       [ 28.7],\n",
       "       [ 22.6],\n",
       "       [ 22. ],\n",
       "       [ 22.9],\n",
       "       [ 25. ],\n",
       "       [ 20.6],\n",
       "       [ 28.4],\n",
       "       [ 21.4],\n",
       "       [ 38.7],\n",
       "       [ 43.8],\n",
       "       [ 33.2],\n",
       "       [ 27.5],\n",
       "       [ 26.5],\n",
       "       [ 18.6],\n",
       "       [ 19.3],\n",
       "       [ 20.1],\n",
       "       [ 19.5],\n",
       "       [ 19.5],\n",
       "       [ 20.4],\n",
       "       [ 19.8],\n",
       "       [ 19.4],\n",
       "       [ 21.7],\n",
       "       [ 22.8],\n",
       "       [ 18.8],\n",
       "       [ 18.7],\n",
       "       [ 18.5],\n",
       "       [ 18.3],\n",
       "       [ 21.2],\n",
       "       [ 19.2],\n",
       "       [ 20.4],\n",
       "       [ 19.3],\n",
       "       [ 22. ],\n",
       "       [ 20.3],\n",
       "       [ 20.5],\n",
       "       [ 17.3],\n",
       "       [ 18.8],\n",
       "       [ 21.4],\n",
       "       [ 15.7],\n",
       "       [ 16.2],\n",
       "       [ 18. ],\n",
       "       [ 14.3],\n",
       "       [ 19.2],\n",
       "       [ 19.6],\n",
       "       [ 23. ],\n",
       "       [ 18.4],\n",
       "       [ 15.6],\n",
       "       [ 18.1],\n",
       "       [ 17.4],\n",
       "       [ 17.1],\n",
       "       [ 13.3],\n",
       "       [ 17.8],\n",
       "       [ 14. ],\n",
       "       [ 14.4],\n",
       "       [ 13.4],\n",
       "       [ 15.6],\n",
       "       [ 11.8],\n",
       "       [ 13.8],\n",
       "       [ 15.6],\n",
       "       [ 14.6],\n",
       "       [ 17.8],\n",
       "       [ 15.4],\n",
       "       [ 21.5],\n",
       "       [ 19.6],\n",
       "       [ 15.3],\n",
       "       [ 19.4],\n",
       "       [ 17. ],\n",
       "       [ 15.6],\n",
       "       [ 13.1],\n",
       "       [ 41.3],\n",
       "       [ 24.3],\n",
       "       [ 23.3],\n",
       "       [ 27. ],\n",
       "       [ 50. ],\n",
       "       [ 50. ],\n",
       "       [ 50. ],\n",
       "       [ 22.7],\n",
       "       [ 25. ],\n",
       "       [ 50. ],\n",
       "       [ 23.8],\n",
       "       [ 23.8],\n",
       "       [ 22.3],\n",
       "       [ 17.4],\n",
       "       [ 19.1],\n",
       "       [ 23.1],\n",
       "       [ 23.6],\n",
       "       [ 22.6],\n",
       "       [ 29.4],\n",
       "       [ 23.2],\n",
       "       [ 24.6],\n",
       "       [ 29.9],\n",
       "       [ 37.2],\n",
       "       [ 39.8],\n",
       "       [ 36.2],\n",
       "       [ 37.9],\n",
       "       [ 32.5],\n",
       "       [ 26.4],\n",
       "       [ 29.6],\n",
       "       [ 50. ],\n",
       "       [ 32. ],\n",
       "       [ 29.8],\n",
       "       [ 34.9],\n",
       "       [ 37. ],\n",
       "       [ 30.5],\n",
       "       [ 36.4],\n",
       "       [ 31.1],\n",
       "       [ 29.1],\n",
       "       [ 50. ],\n",
       "       [ 33.3],\n",
       "       [ 30.3],\n",
       "       [ 34.6],\n",
       "       [ 34.9],\n",
       "       [ 32.9],\n",
       "       [ 24.1],\n",
       "       [ 42.3],\n",
       "       [ 48.5],\n",
       "       [ 50. ],\n",
       "       [ 22.6],\n",
       "       [ 24.4],\n",
       "       [ 22.5],\n",
       "       [ 24.4],\n",
       "       [ 20. ],\n",
       "       [ 21.7],\n",
       "       [ 19.3],\n",
       "       [ 22.4],\n",
       "       [ 28.1],\n",
       "       [ 23.7],\n",
       "       [ 25. ],\n",
       "       [ 23.3],\n",
       "       [ 28.7],\n",
       "       [ 21.5],\n",
       "       [ 23. ],\n",
       "       [ 26.7],\n",
       "       [ 21.7],\n",
       "       [ 27.5],\n",
       "       [ 30.1],\n",
       "       [ 44.8],\n",
       "       [ 50. ],\n",
       "       [ 37.6],\n",
       "       [ 31.6],\n",
       "       [ 46.7],\n",
       "       [ 31.5],\n",
       "       [ 24.3],\n",
       "       [ 31.7],\n",
       "       [ 41.7],\n",
       "       [ 48.3],\n",
       "       [ 29. ],\n",
       "       [ 24. ],\n",
       "       [ 25.1],\n",
       "       [ 31.5],\n",
       "       [ 23.7],\n",
       "       [ 23.3],\n",
       "       [ 22. ],\n",
       "       [ 20.1],\n",
       "       [ 22.2],\n",
       "       [ 23.7],\n",
       "       [ 17.6],\n",
       "       [ 18.5],\n",
       "       [ 24.3],\n",
       "       [ 20.5],\n",
       "       [ 24.5],\n",
       "       [ 26.2],\n",
       "       [ 24.4],\n",
       "       [ 24.8],\n",
       "       [ 29.6],\n",
       "       [ 42.8],\n",
       "       [ 21.9],\n",
       "       [ 20.9],\n",
       "       [ 44. ],\n",
       "       [ 50. ],\n",
       "       [ 36. ],\n",
       "       [ 30.1],\n",
       "       [ 33.8],\n",
       "       [ 43.1],\n",
       "       [ 48.8],\n",
       "       [ 31. ],\n",
       "       [ 36.5],\n",
       "       [ 22.8],\n",
       "       [ 30.7],\n",
       "       [ 50. ],\n",
       "       [ 43.5],\n",
       "       [ 20.7],\n",
       "       [ 21.1],\n",
       "       [ 25.2],\n",
       "       [ 24.4],\n",
       "       [ 35.2],\n",
       "       [ 32.4],\n",
       "       [ 32. ],\n",
       "       [ 33.2],\n",
       "       [ 33.1],\n",
       "       [ 29.1],\n",
       "       [ 35.1],\n",
       "       [ 45.4],\n",
       "       [ 35.4],\n",
       "       [ 46. ],\n",
       "       [ 50. ],\n",
       "       [ 32.2],\n",
       "       [ 22. ],\n",
       "       [ 20.1],\n",
       "       [ 23.2],\n",
       "       [ 22.3],\n",
       "       [ 24.8],\n",
       "       [ 28.5],\n",
       "       [ 37.3],\n",
       "       [ 27.9],\n",
       "       [ 23.9],\n",
       "       [ 21.7],\n",
       "       [ 28.6],\n",
       "       [ 27.1],\n",
       "       [ 20.3],\n",
       "       [ 22.5],\n",
       "       [ 29. ],\n",
       "       [ 24.8],\n",
       "       [ 22. ],\n",
       "       [ 26.4],\n",
       "       [ 33.1],\n",
       "       [ 36.1],\n",
       "       [ 28.4],\n",
       "       [ 33.4],\n",
       "       [ 28.2],\n",
       "       [ 22.8],\n",
       "       [ 20.3],\n",
       "       [ 16.1],\n",
       "       [ 22.1],\n",
       "       [ 19.4],\n",
       "       [ 21.6],\n",
       "       [ 23.8],\n",
       "       [ 16.2],\n",
       "       [ 17.8],\n",
       "       [ 19.8],\n",
       "       [ 23.1],\n",
       "       [ 21. ],\n",
       "       [ 23.8],\n",
       "       [ 23.1],\n",
       "       [ 20.4],\n",
       "       [ 18.5],\n",
       "       [ 25. ],\n",
       "       [ 24.6],\n",
       "       [ 23. ],\n",
       "       [ 22.2],\n",
       "       [ 19.3],\n",
       "       [ 22.6],\n",
       "       [ 19.8],\n",
       "       [ 17.1],\n",
       "       [ 19.4],\n",
       "       [ 22.2],\n",
       "       [ 20.7],\n",
       "       [ 21.1],\n",
       "       [ 19.5],\n",
       "       [ 18.5],\n",
       "       [ 20.6],\n",
       "       [ 19. ],\n",
       "       [ 18.7],\n",
       "       [ 32.7],\n",
       "       [ 16.5],\n",
       "       [ 23.9],\n",
       "       [ 31.2],\n",
       "       [ 17.5],\n",
       "       [ 17.2],\n",
       "       [ 23.1],\n",
       "       [ 24.5],\n",
       "       [ 26.6],\n",
       "       [ 22.9],\n",
       "       [ 24.1],\n",
       "       [ 18.6],\n",
       "       [ 30.1],\n",
       "       [ 18.2],\n",
       "       [ 20.6],\n",
       "       [ 17.8],\n",
       "       [ 21.7],\n",
       "       [ 22.7],\n",
       "       [ 22.6],\n",
       "       [ 25. ],\n",
       "       [ 19.9],\n",
       "       [ 20.8],\n",
       "       [ 16.8],\n",
       "       [ 21.9],\n",
       "       [ 27.5],\n",
       "       [ 21.9],\n",
       "       [ 23.1],\n",
       "       [ 50. ],\n",
       "       [ 50. ],\n",
       "       [ 50. ],\n",
       "       [ 50. ],\n",
       "       [ 50. ],\n",
       "       [ 13.8],\n",
       "       [ 13.8],\n",
       "       [ 15. ],\n",
       "       [ 13.9],\n",
       "       [ 13.3],\n",
       "       [ 13.1],\n",
       "       [ 10.2],\n",
       "       [ 10.4],\n",
       "       [ 10.9],\n",
       "       [ 11.3],\n",
       "       [ 12.3],\n",
       "       [  8.8],\n",
       "       [  7.2],\n",
       "       [ 10.5],\n",
       "       [  7.4],\n",
       "       [ 10.2],\n",
       "       [ 11.5],\n",
       "       [ 15.1],\n",
       "       [ 23.2],\n",
       "       [  9.7],\n",
       "       [ 13.8],\n",
       "       [ 12.7],\n",
       "       [ 13.1],\n",
       "       [ 12.5],\n",
       "       [  8.5],\n",
       "       [  5. ],\n",
       "       [  6.3],\n",
       "       [  5.6],\n",
       "       [  7.2],\n",
       "       [ 12.1],\n",
       "       [  8.3],\n",
       "       [  8.5],\n",
       "       [  5. ],\n",
       "       [ 11.9],\n",
       "       [ 27.9],\n",
       "       [ 17.2],\n",
       "       [ 27.5],\n",
       "       [ 15. ],\n",
       "       [ 17.2],\n",
       "       [ 17.9],\n",
       "       [ 16.3],\n",
       "       [  7. ],\n",
       "       [  7.2],\n",
       "       [  7.5],\n",
       "       [ 10.4],\n",
       "       [  8.8],\n",
       "       [  8.4],\n",
       "       [ 16.7],\n",
       "       [ 14.2],\n",
       "       [ 20.8],\n",
       "       [ 13.4],\n",
       "       [ 11.7],\n",
       "       [  8.3],\n",
       "       [ 10.2],\n",
       "       [ 10.9],\n",
       "       [ 11. ],\n",
       "       [  9.5],\n",
       "       [ 14.5],\n",
       "       [ 14.1],\n",
       "       [ 16.1],\n",
       "       [ 14.3],\n",
       "       [ 11.7],\n",
       "       [ 13.4],\n",
       "       [  9.6],\n",
       "       [  8.7],\n",
       "       [  8.4],\n",
       "       [ 12.8],\n",
       "       [ 10.5],\n",
       "       [ 17.1],\n",
       "       [ 18.4],\n",
       "       [ 15.4],\n",
       "       [ 10.8],\n",
       "       [ 11.8],\n",
       "       [ 14.9],\n",
       "       [ 12.6],\n",
       "       [ 14.1],\n",
       "       [ 13. ],\n",
       "       [ 13.4],\n",
       "       [ 15.2],\n",
       "       [ 16.1],\n",
       "       [ 17.8],\n",
       "       [ 14.9],\n",
       "       [ 14.1],\n",
       "       [ 12.7],\n",
       "       [ 13.5],\n",
       "       [ 14.9],\n",
       "       [ 20. ],\n",
       "       [ 16.4],\n",
       "       [ 17.7],\n",
       "       [ 19.5],\n",
       "       [ 20.2],\n",
       "       [ 21.4],\n",
       "       [ 19.9],\n",
       "       [ 19. ],\n",
       "       [ 19.1],\n",
       "       [ 19.1],\n",
       "       [ 20.1],\n",
       "       [ 19.9],\n",
       "       [ 19.6],\n",
       "       [ 23.2],\n",
       "       [ 29.8],\n",
       "       [ 13.8],\n",
       "       [ 13.3],\n",
       "       [ 16.7],\n",
       "       [ 12. ],\n",
       "       [ 14.6],\n",
       "       [ 21.4],\n",
       "       [ 23. ],\n",
       "       [ 23.7],\n",
       "       [ 25. ],\n",
       "       [ 21.8],\n",
       "       [ 20.6],\n",
       "       [ 21.2],\n",
       "       [ 19.1],\n",
       "       [ 20.6],\n",
       "       [ 15.2],\n",
       "       [  7. ],\n",
       "       [  8.1],\n",
       "       [ 13.6],\n",
       "       [ 20.1],\n",
       "       [ 21.8],\n",
       "       [ 24.5],\n",
       "       [ 23.1],\n",
       "       [ 19.7],\n",
       "       [ 18.3],\n",
       "       [ 21.2],\n",
       "       [ 17.5],\n",
       "       [ 16.8],\n",
       "       [ 22.4],\n",
       "       [ 20.6],\n",
       "       [ 23.9],\n",
       "       [ 22. ],\n",
       "       [ 11.9]])"
      ]
     },
     "execution_count": 27,
     "metadata": {},
     "output_type": "execute_result"
    }
   ],
   "source": [
    "y"
   ]
  },
  {
   "cell_type": "code",
   "execution_count": 28,
   "metadata": {
    "collapsed": true
   },
   "outputs": [],
   "source": [
    "def lin_regplot_intcpt(X, y, model):\n",
    "    plt.scatter(X, y, c='blue')\n",
    "    # If axis is not given, both arr and values are flattened before use.\n",
    "    plt.plot(np.append(X, [[0]], axis=0), model.predict(np.append(X, [[0]], axis=0)), c='red')\n",
    "    return None"
   ]
  },
  {
   "cell_type": "code",
   "execution_count": 29,
   "metadata": {},
   "outputs": [
    {
     "data": {
      "image/png": "[encoded data removed]",
      "text/plain": [
       "<matplotlib.figure.Figure at 0x10df0590>"
      ]
     },
     "metadata": {},
     "output_type": "display_data"
    }
   ],
   "source": [
    "lin_regplot(X, y, slr)\n",
    "plt.xlabel('Average number of rooms[RM]')\n",
    "plt.ylabel('Price in $1000\\'s [MEDV]')\n",
    "plt.xlim([0, 10])\n",
    "plt.show()"
   ]
  },
  {
   "cell_type": "markdown",
   "metadata": {},
   "source": [
    "# Fitting a robust regression model using RANSAC"
   ]
  },
  {
   "cell_type": "code",
   "execution_count": 30,
   "metadata": {},
   "outputs": [
    {
     "name": "stderr",
     "output_type": "stream",
     "text": [
      "D:\\anaconda2\\lib\\site-packages\\sklearn\\linear_model\\ransac.py:288: DeprecationWarning: 'residual_metric' was deprecated in version 0.18 and will be removed in version 0.20. Use 'loss' instead.\n",
      "  DeprecationWarning)\n"
     ]
    },
    {
     "data": {
      "text/plain": [
       "RANSACRegressor(base_estimator=LinearRegression(copy_X=True, fit_intercept=True, n_jobs=1, normalize=False),\n",
       "        is_data_valid=None, is_model_valid=None, loss='absolute_loss',\n",
       "        max_skips=inf, max_trials=100, min_samples=50, random_state=0,\n",
       "        residual_metric=<function <lambda> at 0x114328F0>,\n",
       "        residual_threshold=5.0, stop_n_inliers=inf, stop_probability=0.99,\n",
       "        stop_score=inf)"
      ]
     },
     "execution_count": 30,
     "metadata": {},
     "output_type": "execute_result"
    }
   ],
   "source": [
    "from sklearn.linear_model import RANSACRegressor\n",
    "ransac = RANSACRegressor(LinearRegression(),\n",
    "                         max_trials=100,\n",
    "                         min_samples=50,\n",
    "                         residual_metric=lambda dy:np.sum(np.abs(dy), axis=1),\n",
    "                         residual_threshold=5.0,\n",
    "                         random_state=0\n",
    "                        )\n",
    "ransac.fit(X, y)"
   ]
  },
  {
   "cell_type": "code",
   "execution_count": 31,
   "metadata": {
    "collapsed": true
   },
   "outputs": [],
   "source": [
    "inlier_mask = ransac.inlier_mask_\n",
    "outlier_mask = np.logical_not(inlier_mask)\n",
    "line_X = np.arange(3, 10, 1)\n",
    "line_y_ransac = ransac.predict(line_X[:, np.newaxis])"
   ]
  },
  {
   "cell_type": "code",
   "execution_count": 32,
   "metadata": {},
   "outputs": [
    {
     "data": {
      "image/png": "[encoded data removed]",
      "text/plain": [
       "<matplotlib.figure.Figure at 0x10871bd0>"
      ]
     },
     "metadata": {},
     "output_type": "display_data"
    }
   ],
   "source": [
    "plt.scatter(X[inlier_mask], y[inlier_mask], color='blue', marker='o', label='inliers')\n",
    "plt.scatter(X[outlier_mask], y[outlier_mask], color='lightgreen', marker='^', label='outliers')\n",
    "plt.plot(line_X, line_y_ransac, color='red')\n",
    "plt.legend()\n",
    "plt.show()"
   ]
  },
  {
   "cell_type": "code",
   "execution_count": 33,
   "metadata": {},
   "outputs": [
    {
     "name": "stdout",
     "output_type": "stream",
     "text": [
      "[[ 10.73450881]]\n",
      "[-44.08906429]\n"
     ]
    }
   ],
   "source": [
    "print(ransac.estimator_.coef_)\n",
    "print(ransac.estimator_.intercept_)"
   ]
  },
  {
   "cell_type": "markdown",
   "metadata": {},
   "source": [
    "# Evaluating the performance of linear regression models"
   ]
  },
  {
   "cell_type": "code",
   "execution_count": 34,
   "metadata": {},
   "outputs": [
    {
     "name": "stderr",
     "output_type": "stream",
     "text": [
      "D:\\anaconda2\\lib\\site-packages\\sklearn\\cross_validation.py:41: DeprecationWarning: This module was deprecated in version 0.18 in favor of the model_selection module into which all the refactored classes and functions are moved. Also note that the interface of the new CV iterators are different from that of this module. This module will be removed in 0.20.\n",
      "  \"This module will be removed in 0.20.\", DeprecationWarning)\n"
     ]
    }
   ],
   "source": [
    "from sklearn.cross_validation import train_test_split\n",
    "X = df.iloc[:, :-1].values\n",
    "y = df['MEDV'].values\n",
    "X_train, X_test, y_train, y_test = train_test_split(X, y, test_size=0.3, random_state=0)\n",
    "slr = LinearRegression()\n",
    "slr.fit(X_train, y_train)\n",
    "y_train_pred = slr.predict(X_train)\n",
    "y_test_pred = slr.predict(X_test)"
   ]
  },
  {
   "cell_type": "code",
   "execution_count": 35,
   "metadata": {},
   "outputs": [
    {
     "data": {
      "text/plain": [
       "(506, 13)"
      ]
     },
     "execution_count": 35,
     "metadata": {},
     "output_type": "execute_result"
    }
   ],
   "source": [
    "X.shape"
   ]
  },
  {
   "cell_type": "code",
   "execution_count": 36,
   "metadata": {},
   "outputs": [
    {
     "data": {
      "text/plain": [
       "(506,)"
      ]
     },
     "execution_count": 36,
     "metadata": {},
     "output_type": "execute_result"
    }
   ],
   "source": [
    "y.shape"
   ]
  },
  {
   "cell_type": "markdown",
   "metadata": {},
   "source": [
    "**Residual plot**"
   ]
  },
  {
   "cell_type": "code",
   "execution_count": 37,
   "metadata": {},
   "outputs": [
    {
     "data": {
      "text/plain": [
       "[]"
      ]
     },
     "execution_count": 37,
     "metadata": {},
     "output_type": "execute_result"
    }
   ],
   "source": [
    "plt.scatter(y_train_pred, y_train_pred-y_train, color='blue', marker='o', label='train')\n",
    "plt.scatter(y_test_pred, y_test_pred-y_test, color='green', marker='s', label='test')\n",
    "plt.hlines(y=0, xmin=-10, xmax=50, lw=2, color='red')\n",
    "plt.xlabel('predicted value')\n",
    "plt.ylabel('residuals')\n",
    "plt.legend()\n",
    "plt.plot()"
   ]
  },
  {
   "cell_type": "markdown",
   "metadata": {},
   "source": [
    "**Mean Squared Error and R^2**"
   ]
  },
  {
   "cell_type": "code",
   "execution_count": 38,
   "metadata": {},
   "outputs": [
    {
     "name": "stdout",
     "output_type": "stream",
     "text": [
      "MSE train: 19.958, test: 27.196\n"
     ]
    }
   ],
   "source": [
    "from sklearn.metrics import mean_squared_error\n",
    "print('MSE train: %.3f, test: %.3f' % (\n",
    "        mean_squared_error(y_train, y_train_pred),\n",
    "        mean_squared_error(y_test, y_test_pred)\n",
    "    ))"
   ]
  },
  {
   "cell_type": "code",
   "execution_count": 39,
   "metadata": {},
   "outputs": [
    {
     "name": "stdout",
     "output_type": "stream",
     "text": [
      "R^2 train: 0.765, test: 0.673\n"
     ]
    }
   ],
   "source": [
    "from sklearn.metrics import r2_score\n",
    "print('R^2 train: %.3f, test: %.3f' %(\n",
    "         r2_score(y_train, y_train_pred),\n",
    "         r2_score(y_test, y_test_pred)\n",
    "     ))"
   ]
  },
  {
   "cell_type": "markdown",
   "metadata": {},
   "source": [
    "# Training a linear regression model into a curve-polynomial regression"
   ]
  },
  {
   "cell_type": "markdown",
   "metadata": {},
   "source": [
    "**Add a second degree polynomial term**"
   ]
  },
  {
   "cell_type": "code",
   "execution_count": 40,
   "metadata": {
    "collapsed": true
   },
   "outputs": [],
   "source": [
    "from sklearn.preprocessing import PolynomialFeatures"
   ]
  },
  {
   "cell_type": "code",
   "execution_count": 41,
   "metadata": {
    "collapsed": true
   },
   "outputs": [],
   "source": [
    "# if all numbers written without \".0\", type of X elements would be int32\n",
    "X = np.array([258, 270, 294, 320, 342, 368, 396, 446, 480, 586])[:, np.newaxis]"
   ]
  },
  {
   "cell_type": "code",
   "execution_count": 42,
   "metadata": {},
   "outputs": [
    {
     "data": {
      "text/plain": [
       "(10, 1)"
      ]
     },
     "execution_count": 42,
     "metadata": {},
     "output_type": "execute_result"
    }
   ],
   "source": [
    "X.shape"
   ]
  },
  {
   "cell_type": "code",
   "execution_count": 43,
   "metadata": {},
   "outputs": [
    {
     "data": {
      "text/plain": [
       "numpy.int32"
      ]
     },
     "execution_count": 43,
     "metadata": {},
     "output_type": "execute_result"
    }
   ],
   "source": [
    "type(X[1][0])"
   ]
  },
  {
   "cell_type": "code",
   "execution_count": 44,
   "metadata": {
    "collapsed": true
   },
   "outputs": [],
   "source": [
    "y = np.array([236.4, 234.4, 252.8, 296.6, 314.2, 342.2, 360.8, 368.0, 391.2, 390.8])"
   ]
  },
  {
   "cell_type": "code",
   "execution_count": 45,
   "metadata": {},
   "outputs": [
    {
     "data": {
      "text/plain": [
       "(10,)"
      ]
     },
     "execution_count": 45,
     "metadata": {},
     "output_type": "execute_result"
    }
   ],
   "source": [
    "y.shape"
   ]
  },
  {
   "cell_type": "code",
   "execution_count": 46,
   "metadata": {
    "collapsed": true
   },
   "outputs": [],
   "source": [
    "lr = LinearRegression()\n",
    "pr = LinearRegression()\n",
    "quadratic = PolynomialFeatures(degree=2)\n",
    "X_quad = quadratic.fit_transform(X)"
   ]
  },
  {
   "cell_type": "code",
   "execution_count": 47,
   "metadata": {},
   "outputs": [
    {
     "data": {
      "text/plain": [
       "(10, 3)"
      ]
     },
     "execution_count": 47,
     "metadata": {},
     "output_type": "execute_result"
    }
   ],
   "source": [
    "X_quad.shape"
   ]
  },
  {
   "cell_type": "code",
   "execution_count": 49,
   "metadata": {},
   "outputs": [
    {
     "data": {
      "text/plain": [
       "array([[  1.00000000e+00,   2.58000000e+02,   6.65640000e+04],\n",
       "       [  1.00000000e+00,   2.70000000e+02,   7.29000000e+04],\n",
       "       [  1.00000000e+00,   2.94000000e+02,   8.64360000e+04],\n",
       "       [  1.00000000e+00,   3.20000000e+02,   1.02400000e+05],\n",
       "       [  1.00000000e+00,   3.42000000e+02,   1.16964000e+05],\n",
       "       [  1.00000000e+00,   3.68000000e+02,   1.35424000e+05],\n",
       "       [  1.00000000e+00,   3.96000000e+02,   1.56816000e+05],\n",
       "       [  1.00000000e+00,   4.46000000e+02,   1.98916000e+05],\n",
       "       [  1.00000000e+00,   4.80000000e+02,   2.30400000e+05],\n",
       "       [  1.00000000e+00,   5.86000000e+02,   3.43396000e+05]])"
      ]
     },
     "execution_count": 49,
     "metadata": {},
     "output_type": "execute_result"
    }
   ],
   "source": [
    "X_quad # 1, x, x^2"
   ]
  },
  {
   "cell_type": "markdown",
   "metadata": {},
   "source": [
    "**Fit a simple linear regression model for comparison**"
   ]
  },
  {
   "cell_type": "code",
   "execution_count": 50,
   "metadata": {
    "collapsed": true
   },
   "outputs": [],
   "source": [
    "lr.fit(X, y)\n",
    "X_fit = np.arange(250, 600, 10)[:, np.newaxis]\n",
    "y_lin_fit = lr.predict(X_fit)"
   ]
  },
  {
   "cell_type": "markdown",
   "metadata": {},
   "source": [
    "**Fit a multiple regression model on the transformed features for polynomial regression**"
   ]
  },
  {
   "cell_type": "code",
   "execution_count": 51,
   "metadata": {},
   "outputs": [
    {
     "data": {
      "text/plain": [
       "array([[  2.58000000e+02,   6.65640000e+04],\n",
       "       [  2.70000000e+02,   7.29000000e+04],\n",
       "       [  2.94000000e+02,   8.64360000e+04],\n",
       "       [  3.20000000e+02,   1.02400000e+05],\n",
       "       [  3.42000000e+02,   1.16964000e+05],\n",
       "       [  3.68000000e+02,   1.35424000e+05],\n",
       "       [  3.96000000e+02,   1.56816000e+05],\n",
       "       [  4.46000000e+02,   1.98916000e+05],\n",
       "       [  4.80000000e+02,   2.30400000e+05],\n",
       "       [  5.86000000e+02,   3.43396000e+05]])"
      ]
     },
     "execution_count": 51,
     "metadata": {},
     "output_type": "execute_result"
    }
   ],
   "source": [
    "X_quad[:, 1:]"
   ]
  },
  {
   "cell_type": "code",
   "execution_count": 53,
   "metadata": {},
   "outputs": [],
   "source": [
    "pr.fit(X_quad[:, 1:], y)\n",
    "y_quad_fit = pr.predict(quadratic.fit_transform(X_fit)[:, 1:])"
   ]
  },
  {
   "cell_type": "markdown",
   "metadata": {},
   "source": [
    "**Plot the result**"
   ]
  },
  {
   "cell_type": "code",
   "execution_count": 65,
   "metadata": {},
   "outputs": [
    {
     "data": {
      "image/png": "[encoded data removed]",
      "text/plain": [
       "<matplotlib.figure.Figure at 0xa379950>"
      ]
     },
     "metadata": {},
     "output_type": "display_data"
    }
   ],
   "source": [
    "plt.scatter(X, y, label='training points')\n",
    "plt.plot(X_fit, y_lin_fit, color='green', label='linear fit', linestyle='--')\n",
    "plt.plot(X_fit, y_quad_fit, color='red', label='quadratic fit')\n",
    "plt.xlim([200, 610])\n",
    "plt.ylim([200, 450])\n",
    "plt.legend()\n",
    "plt.show()"
   ]
  },
  {
   "cell_type": "markdown",
   "metadata": {},
   "source": [
    "**Performance**"
   ]
  },
  {
   "cell_type": "code",
   "execution_count": 67,
   "metadata": {},
   "outputs": [],
   "source": [
    "y_lin_pred = lr.predict(X)\n",
    "y_quad_pred = pr.predict(X_quad[:, 1:])"
   ]
  },
  {
   "cell_type": "code",
   "execution_count": 68,
   "metadata": {},
   "outputs": [
    {
     "name": "stdout",
     "output_type": "stream",
     "text": [
      "Training MSE linear: 566.160, quadratic: 59.838\n"
     ]
    }
   ],
   "source": [
    "print('Training MSE linear: %.3f, quadratic: %.3f' % (mean_squared_error(y, y_lin_pred), mean_squared_error(y, y_quad_pred)))"
   ]
  },
  {
   "cell_type": "code",
   "execution_count": 69,
   "metadata": {},
   "outputs": [
    {
     "name": "stdout",
     "output_type": "stream",
     "text": [
      "Training R^2 linear: 0.833, quadratic: 0.982\n"
     ]
    }
   ],
   "source": [
    "print('Training R^2 linear: %.3f, quadratic: %.3f' % (r2_score(y, y_lin_pred), r2_score(y, y_quad_pred)))"
   ]
  },
  {
   "cell_type": "markdown",
   "metadata": {},
   "source": [
    "# Modeling nonlinear relationships in the Housing Dataset"
   ]
  },
  {
   "cell_type": "code",
   "execution_count": 78,
   "metadata": {
    "collapsed": true
   },
   "outputs": [],
   "source": [
    "X = df[['LSTAT']].values"
   ]
  },
  {
   "cell_type": "code",
   "execution_count": 83,
   "metadata": {},
   "outputs": [
    {
     "data": {
      "text/plain": [
       "pandas.core.frame.DataFrame"
      ]
     },
     "execution_count": 83,
     "metadata": {},
     "output_type": "execute_result"
    }
   ],
   "source": [
    "type(df[['LSTAT']])"
   ]
  },
  {
   "cell_type": "code",
   "execution_count": 84,
   "metadata": {},
   "outputs": [
    {
     "data": {
      "text/plain": [
       "pandas.core.series.Series"
      ]
     },
     "execution_count": 84,
     "metadata": {},
     "output_type": "execute_result"
    }
   ],
   "source": [
    "type(df['MEDV'])"
   ]
  },
  {
   "cell_type": "code",
   "execution_count": 79,
   "metadata": {},
   "outputs": [],
   "source": [
    "y = df['MEDV'].values"
   ]
  },
  {
   "cell_type": "code",
   "execution_count": 85,
   "metadata": {
    "collapsed": true
   },
   "outputs": [],
   "source": [
    "regr = LinearRegression()"
   ]
  },
  {
   "cell_type": "code",
   "execution_count": 86,
   "metadata": {
    "collapsed": true
   },
   "outputs": [],
   "source": [
    "# Create polynomial features\n",
    "quadratic = PolynomialFeatures(degree=2)\n",
    "cubic = PolynomialFeatures(degree=3)\n",
    "X_quad = quadratic.fit_transform(X)\n",
    "X_cubic = cubic.fit_transform(X)"
   ]
  },
  {
   "cell_type": "code",
   "execution_count": 89,
   "metadata": {},
   "outputs": [
    {
     "data": {
      "text/plain": [
       "DescribeResult(nobs=506, minmax=(array([ 1.73]), array([ 37.97])), mean=array([ 12.65306324]), variance=array([ 50.99475951]), skewness=array([ 0.90377074]), kurtosis=array([ 0.47654476]))"
      ]
     },
     "execution_count": 89,
     "metadata": {},
     "output_type": "execute_result"
    }
   ],
   "source": [
    "from scipy import stats\n",
    "stats.describe(X)"
   ]
  },
  {
   "cell_type": "code",
   "execution_count": 91,
   "metadata": {
    "collapsed": true
   },
   "outputs": [],
   "source": [
    "# Linear fit\n",
    "X_fit = np.arange(X.min(), X.max(), 1)[:, np.newaxis]\n",
    "regr = regr.fit(X, y)\n",
    "y_lin_fit = regr.predict(X_fit)\n",
    "linear_r2 = r2_score(y, regr.predict(X))"
   ]
  },
  {
   "cell_type": "code",
   "execution_count": 92,
   "metadata": {
    "collapsed": true
   },
   "outputs": [],
   "source": [
    "# quadratic fit\n",
    "quad = regr.fit(X_quad, y)\n",
    "y_quad_fit = quad.predict(quadratic.fit_transform(X_fit))\n",
    "quad_r2 = r2_score(y, quad.predict(X_quad))"
   ]
  },
  {
   "cell_type": "code",
   "execution_count": 93,
   "metadata": {
    "collapsed": true
   },
   "outputs": [],
   "source": [
    "# cubic fit\n",
    "cub = regr.fit(X_cubic, y)\n",
    "y_cubic_fit = cub.predict(cubic.fit_transform(X_fit))\n",
    "cub_r2 = r2_score(y, cub.predict(X_cubic))"
   ]
  },
  {
   "cell_type": "code",
   "execution_count": 111,
   "metadata": {},
   "outputs": [
    {
     "data": {
      "image/png": "[encoded data removed]",
      "text/plain": [
       "<matplotlib.figure.Figure at 0x10a76330>"
      ]
     },
     "metadata": {},
     "output_type": "display_data"
    }
   ],
   "source": [
    "# plot results\n",
    "plt.scatter(X, y, color='lightgray', label='training points')\n",
    "# You can use a subset TeX markup in any matplotlib text string by placing it inside a pair of dollar signs ($).\n",
    "plt.plot(X_fit, y_lin_fit, color='blue', linestyle='--', lw=2, label='linear (d=1), $R^2=%.2f$' % linear_r2)\n",
    "plt.plot(X_fit, y_quad_fit, color='green', linestyle=':', lw=2, label='quadratic (d=2), $R^2=%.2f$' % quad_r2)\n",
    "plt.plot(X_fit, y_cubic_fit, color='red', lw=2, label='cubic (d=3), $R^2=%.2f$' % cub_r2)\n",
    "plt.legend()\n",
    "plt.show()"
   ]
  },
  {
   "cell_type": "markdown",
   "metadata": {},
   "source": [
    "**Polynomial features are not always the best choice for modeling nonlinear relationships**"
   ]
  },
  {
   "cell_type": "code",
   "execution_count": 117,
   "metadata": {},
   "outputs": [],
   "source": [
    "X_log = np.log(X)\n",
    "y_sqrt = np.sqrt(y)"
   ]
  },
  {
   "cell_type": "code",
   "execution_count": 127,
   "metadata": {},
   "outputs": [
    {
     "data": {
      "image/png": "[encoded data removed]",
      "text/plain": [
       "<matplotlib.figure.Figure at 0x10a01870>"
      ]
     },
     "metadata": {},
     "output_type": "display_data"
    }
   ],
   "source": [
    "plt.scatter(X_log, y_sqrt, color='lightgray')\n",
    "regr = LinearRegression()\n",
    "X_fit = np.arange(X_log.min(), X_log.max(), 1)[:, np.newaxis]\n",
    "regr = regr.fit(X_log, y_sqrt)\n",
    "y_fit = regr.predict(X_fit)\n",
    "r2 = r2_score(y_sqrt, regr.predict(X_log))\n",
    "plt.plot(X_fit, y_fit, label='Fit $R^2=%.2f$' % r2)\n",
    "plt.legend()\n",
    "plt.show()"
   ]
  },
  {
   "cell_type": "code",
   "execution_count": 125,
   "metadata": {},
   "outputs": [
    {
     "data": {
      "image/png": "[encoded data removed]",
      "text/plain": [
       "<matplotlib.figure.Figure at 0x10871150>"
      ]
     },
     "metadata": {},
     "output_type": "display_data"
    }
   ],
   "source": [
    "regr = LinearRegression()\n",
    "regr = regr.fit(X_log, y_sqrt)\n",
    "X_fit = np.arange(X.min(), X.max(), 1)[:, np.newaxis]\n",
    "y_fit = np.square(regr.predict(np.log(X_fit)))\n",
    "r2 = r2_score(y, np.square(regr.predict(X_log)))\n",
    "plt.scatter(X, y, color='lightgray')\n",
    "plt.plot(X_fit, y_fit, color='red', label='Fit $R^2=%.2f$' % r2)\n",
    "plt.legend()\n",
    "plt.show()"
   ]
  },
  {
   "cell_type": "code",
   "execution_count": null,
   "metadata": {
    "collapsed": true
   },
   "outputs": [],
   "source": []
  }
 ],
 "metadata": {
  "kernelspec": {
   "display_name": "Python 2",
   "language": "python",
   "name": "python2"
  },
  "language_info": {
   "codemirror_mode": {
    "name": "ipython",
    "version": 2
   },
   "file_extension": ".py",
   "mimetype": "text/x-python",
   "name": "python",
   "nbconvert_exporter": "python",
   "pygments_lexer": "ipython2",
   "version": "2.7.14"
  }
 },
 "nbformat": 4,
 "nbformat_minor": 2
}
